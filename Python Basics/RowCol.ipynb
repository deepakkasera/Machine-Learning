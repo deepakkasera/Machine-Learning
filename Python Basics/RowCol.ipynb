{
 "cells": [
  {
   "cell_type": "code",
   "execution_count": 10,
   "metadata": {},
   "outputs": [
    {
     "name": "stdout",
     "output_type": "stream",
     "text": [
      "1 1 \n",
      "813\n",
      "row 0 813\n"
     ]
    }
   ],
   "source": [
    "str = input().strip().split(' ')\n",
    "n = int(str[0])\n",
    "m = int(str[1])\n",
    "# colsum = 0\n",
    "# rowsum = 0\n",
    "max1, max2 = 0, 0\n",
    "l = [int(i) for i in input().strip().split(\" \")]\n",
    "out = [[l[i*m+j] for j in range(m)] for i in range(n)]\n",
    "\n",
    "for i in range(n):\n",
    "    rowsum = 0\n",
    "    for j in range(m):\n",
    "        rowsum += out[i][j]\n",
    "    if max1 < rowsum:\n",
    "        row_num = i\n",
    "        max1= rowsum\n",
    "        \n",
    "for j in range(m):\n",
    "    colsum = 0\n",
    "    for i in range(n):\n",
    "        colsum += out[i][j]\n",
    "    if max2 < colsum:\n",
    "        col_num = j \n",
    "        max2 = colsum\n",
    "        \n",
    "if max1 >= max2:\n",
    "    print(\"row\", end = \" \")\n",
    "    print(row_num, end = \" \")\n",
    "    print(max1)\n",
    "    \n",
    "else:\n",
    "    print(\"col\", end = \" \")\n",
    "    print(col_num, end = \" \")\n",
    "    print(max2)"
   ]
  }
 ],
 "metadata": {
  "kernelspec": {
   "display_name": "Python 3",
   "language": "python",
   "name": "python3"
  },
  "language_info": {
   "codemirror_mode": {
    "name": "ipython",
    "version": 3
   },
   "file_extension": ".py",
   "mimetype": "text/x-python",
   "name": "python",
   "nbconvert_exporter": "python",
   "pygments_lexer": "ipython3",
   "version": "3.6.4"
  }
 },
 "nbformat": 4,
 "nbformat_minor": 2
}
