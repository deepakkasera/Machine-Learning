{
 "cells": [
  {
   "cell_type": "code",
   "execution_count": 3,
   "metadata": {},
   "outputs": [
    {
     "name": "stdout",
     "output_type": "stream",
     "text": [
      "5\n",
      "1 2 3 2 1 \n",
      "2\n"
     ]
    }
   ],
   "source": [
    "def equilibrium(l):\n",
    "  totalSum = sum(l)\n",
    "  leftSum = 0\n",
    "  for i, num in enumerate(l):\n",
    "    totalSum -= num\n",
    "    \n",
    "    if(leftSum == totalSum):\n",
    "      return i\n",
    "    \n",
    "    leftSum = leftSum + num\n",
    "  return -1\n",
    "\n",
    "\n",
    "n = int(input())\n",
    "#l = list(map(int,raw_input().split()))\n",
    "l = [int(x) for x in input().strip().split()]\n",
    "print(equilibrium(l))"
   ]
  }
 ],
 "metadata": {
  "kernelspec": {
   "display_name": "Python 3",
   "language": "python",
   "name": "python3"
  },
  "language_info": {
   "codemirror_mode": {
    "name": "ipython",
    "version": 3
   },
   "file_extension": ".py",
   "mimetype": "text/x-python",
   "name": "python",
   "nbconvert_exporter": "python",
   "pygments_lexer": "ipython3",
   "version": "3.6.4"
  }
 },
 "nbformat": 4,
 "nbformat_minor": 2
}
