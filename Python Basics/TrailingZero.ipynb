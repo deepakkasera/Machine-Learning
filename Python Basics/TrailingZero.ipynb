{
 "cells": [
  {
   "cell_type": "code",
   "execution_count": 1,
   "metadata": {},
   "outputs": [
    {
     "name": "stdout",
     "output_type": "stream",
     "text": [
      "100\n",
      "24\n"
     ]
    }
   ],
   "source": [
    "def trailingZero(n):\n",
    "  ans = 0\n",
    "  i = 5\n",
    "  while n/i > 1:\n",
    "    ans += int(n/i)\n",
    "    i = i * 5\n",
    "    \n",
    "  return int(ans)\n",
    "\n",
    "n = int(input())\n",
    "print(trailingZero(n))"
   ]
  }
 ],
 "metadata": {
  "kernelspec": {
   "display_name": "Python 3",
   "language": "python",
   "name": "python3"
  },
  "language_info": {
   "codemirror_mode": {
    "name": "ipython",
    "version": 3
   },
   "file_extension": ".py",
   "mimetype": "text/x-python",
   "name": "python",
   "nbconvert_exporter": "python",
   "pygments_lexer": "ipython3",
   "version": "3.6.4"
  }
 },
 "nbformat": 4,
 "nbformat_minor": 2
}
