{
 "cells": [
  {
   "cell_type": "code",
   "execution_count": 19,
   "metadata": {},
   "outputs": [
    {
     "name": "stdout",
     "output_type": "stream",
     "text": [
      "<class 'list'>\n",
      "[]\n",
      "[1, 2, 3]\n"
     ]
    },
    {
     "data": {
      "text/plain": [
       "[1, 2, 'Deepak', True]"
      ]
     },
     "execution_count": 19,
     "metadata": {},
     "output_type": "execute_result"
    }
   ],
   "source": [
    "a = [1,2,3,4,5,6]\n",
    "print(type(a))\n",
    "\n",
    "#empty list\n",
    "a1 = list()\n",
    "print(a1)\n",
    "\n",
    "a2 = list([1,2,3])\n",
    "print(a2)\n",
    "\n",
    "\n",
    "#for every iteration add i in the list\n",
    "a4 = [i for i in range(10)]\n",
    "a4\n",
    "\n",
    "#list in python can have multiple types of data\n",
    "a5 = [1,2,\"Deepak\",True]\n",
    "a5"
   ]
  },
  {
   "cell_type": "code",
   "execution_count": 26,
   "metadata": {},
   "outputs": [
    {
     "name": "stdout",
     "output_type": "stream",
     "text": [
      "1\n",
      "6\n",
      "[3, 4]\n",
      "1 2 3 4 5 6 "
     ]
    }
   ],
   "source": [
    "print(a[0])\n",
    "print(a[-1])\n",
    "print(a[2:4])\n",
    "len(a)\n",
    "for i in a:\n",
    "    print(i, end = \" \")"
   ]
  },
  {
   "cell_type": "code",
   "execution_count": 31,
   "metadata": {},
   "outputs": [
    {
     "data": {
      "text/plain": [
       "['a', 'b', 'c,d']"
      ]
     },
     "execution_count": 31,
     "metadata": {},
     "output_type": "execute_result"
    }
   ],
   "source": [
    "s = \"a b c,d\"\n",
    "s.split(\" \")"
   ]
  },
  {
   "cell_type": "code",
   "execution_count": 89,
   "metadata": {},
   "outputs": [
    {
     "name": "stdout",
     "output_type": "stream",
     "text": [
      "1 2 3\n"
     ]
    },
    {
     "data": {
      "text/plain": [
       "[1, 2, 3]"
      ]
     },
     "execution_count": 89,
     "metadata": {},
     "output_type": "execute_result"
    }
   ],
   "source": [
    "# st = input().strip()\n",
    "# list = st.split()\n",
    "# # list\n",
    "\n",
    "# for i in range(0, len(list)):\n",
    "#     list[i] = int(list[i])\n",
    "    \n",
    "# list\n",
    "\n",
    "l = [int(x) for x in input().strip().split(\" \")]\n",
    "l"
   ]
  },
  {
   "cell_type": "code",
   "execution_count": 70,
   "metadata": {},
   "outputs": [
    {
     "data": {
      "text/plain": [
       "[1, 'ac', 3, 'Deepak', 4, 10, 11, 12]"
      ]
     },
     "execution_count": 70,
     "metadata": {},
     "output_type": "execute_result"
    }
   ],
   "source": [
    "#how to add elements in list\n",
    "l = [1, \"ac\", 3]\n",
    "l.append(4)\n",
    "l.insert(3,\"Deepak\")\n",
    "l\n",
    "\n",
    "l2  = [10,11,12]\n",
    "l.extend(l2)\n",
    "l"
   ]
  },
  {
   "cell_type": "code",
   "execution_count": 88,
   "metadata": {},
   "outputs": [
    {
     "name": "stdout",
     "output_type": "stream",
     "text": [
      "[1, 2, 3, 1, 2, 3]\n",
      "[1, 2, 3]\n",
      "[1, 2, 3, 1, 2, 3]\n",
      "[1, 1, 2, 2, 3, 3]\n",
      "[1, 1, 2, 2, 3, 3, 10]\n",
      "2\n",
      "1\n",
      "6\n"
     ]
    },
    {
     "data": {
      "text/plain": [
       "True"
      ]
     },
     "execution_count": 88,
     "metadata": {},
     "output_type": "execute_result"
    }
   ],
   "source": [
    "#Deleting the list elements\n",
    "#l.pop() #without arguments pop() function will delete the last element\n",
    "#l.pop(1)\n",
    "#l\n",
    "\n",
    "\n",
    "\n",
    "l = [1,2,3]\n",
    "print(l + l)\n",
    "print(l)\n",
    "l = l*2\n",
    "print(l)\n",
    "l.sort()\n",
    "print(l)\n",
    "l.append(10)\n",
    "print(l)\n",
    "print(l.count(1))\n",
    "print(l.count(10))\n",
    "print(l.index(10))\n",
    "l.reverse()\n",
    "l\n",
    "1 in l"
   ]
  },
  {
   "cell_type": "code",
   "execution_count": null,
   "metadata": {},
   "outputs": [],
   "source": []
  },
  {
   "cell_type": "code",
   "execution_count": null,
   "metadata": {},
   "outputs": [],
   "source": []
  }
 ],
 "metadata": {
  "kernelspec": {
   "display_name": "Python 3",
   "language": "python",
   "name": "python3"
  },
  "language_info": {
   "codemirror_mode": {
    "name": "ipython",
    "version": 3
   },
   "file_extension": ".py",
   "mimetype": "text/x-python",
   "name": "python",
   "nbconvert_exporter": "python",
   "pygments_lexer": "ipython3",
   "version": "3.6.4"
  }
 },
 "nbformat": 4,
 "nbformat_minor": 2
}
