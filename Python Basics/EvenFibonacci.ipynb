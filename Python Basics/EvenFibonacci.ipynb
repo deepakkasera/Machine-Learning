{
 "cells": [
  {
   "cell_type": "code",
   "execution_count": 2,
   "metadata": {},
   "outputs": [
    {
     "name": "stdout",
     "output_type": "stream",
     "text": [
      "100\n",
      "44\n"
     ]
    }
   ],
   "source": [
    "def evenFib(n):\n",
    "    if(n < 2):\n",
    "        return 0\n",
    "    \n",
    "    first = 0\n",
    "    second = 2\n",
    "    sm = first + second\n",
    "    \n",
    "    while(second < n):\n",
    "        x = 4 * second + first\n",
    "        if(x > n):\n",
    "            break\n",
    "        first = second\n",
    "        second = x\n",
    "        sm = sm + x\n",
    "        \n",
    "    return sm\n",
    "\n",
    "n = int(input())\n",
    "print(evenFib(n))"
   ]
  }
 ],
 "metadata": {
  "kernelspec": {
   "display_name": "Python 3",
   "language": "python",
   "name": "python3"
  },
  "language_info": {
   "codemirror_mode": {
    "name": "ipython",
    "version": 3
   },
   "file_extension": ".py",
   "mimetype": "text/x-python",
   "name": "python",
   "nbconvert_exporter": "python",
   "pygments_lexer": "ipython3",
   "version": "3.6.4"
  }
 },
 "nbformat": 4,
 "nbformat_minor": 2
}
