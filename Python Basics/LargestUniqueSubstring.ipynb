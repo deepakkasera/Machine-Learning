{
 "cells": [
  {
   "cell_type": "code",
   "execution_count": 33,
   "metadata": {},
   "outputs": [
    {
     "name": "stdout",
     "output_type": "stream",
     "text": [
      "abcdabceb\n",
      "5\n"
     ]
    }
   ],
   "source": [
    "def fun(str):\n",
    "    n = len(str)\n",
    "    curr_len = 1\n",
    "    start = 0\n",
    "    max_len = 1\n",
    "    prev_index = 0\n",
    "    i = 0\n",
    "    \n",
    "    visited = [-1] * 500\n",
    "    visited[ord(str[0])] = 0\n",
    "    \n",
    "    for i in range(1, n):\n",
    "        prev_index = visited[ord(str[i])]\n",
    "        \n",
    "        if prev_index == -1 or i - curr_len > prev_index:\n",
    "            curr_len += 1\n",
    "        \n",
    "        else:\n",
    "            \n",
    "            if curr_len > max_len:\n",
    "#                 start = i\n",
    "                max_len = curr_len\n",
    "                \n",
    "            curr_len = i - prev_index\n",
    "        \n",
    "        visited[ord(str[i])] = i\n",
    "        \n",
    "    if curr_len > max_len:\n",
    "        max_len = curr_len\n",
    "#     print(start)\n",
    "#     print(max_len)\n",
    "#     ans = str[start:start + max_len]\n",
    "    return max_len\n",
    "\n",
    "str = input().strip()\n",
    "# print(str)\n",
    "print(fun(str))"
   ]
  },
  {
   "cell_type": "code",
   "execution_count": null,
   "metadata": {},
   "outputs": [],
   "source": []
  }
 ],
 "metadata": {
  "kernelspec": {
   "display_name": "Python 3",
   "language": "python",
   "name": "python3"
  },
  "language_info": {
   "codemirror_mode": {
    "name": "ipython",
    "version": 3
   },
   "file_extension": ".py",
   "mimetype": "text/x-python",
   "name": "python",
   "nbconvert_exporter": "python",
   "pygments_lexer": "ipython3",
   "version": "3.6.4"
  }
 },
 "nbformat": 4,
 "nbformat_minor": 2
}
