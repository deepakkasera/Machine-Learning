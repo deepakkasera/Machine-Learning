{
 "cells": [
  {
   "cell_type": "code",
   "execution_count": 19,
   "metadata": {},
   "outputs": [
    {
     "name": "stdout",
     "output_type": "stream",
     "text": [
      "abc def\n",
      "cba fed "
     ]
    }
   ],
   "source": [
    "def reverse(s):\n",
    "    words = s.split(\" \")\n",
    "    \n",
    "#     print(wordsOut)\n",
    "    for s in words:\n",
    "        print(s[-1::-1], end = \" \")\n",
    "#     return output\n",
    "\n",
    "if __name__ == \"__main__\":\n",
    "    s = input()\n",
    "    reverse(s)\n",
    "#     print(s[::-1])"
   ]
  }
 ],
 "metadata": {
  "kernelspec": {
   "display_name": "Python 3",
   "language": "python",
   "name": "python3"
  },
  "language_info": {
   "codemirror_mode": {
    "name": "ipython",
    "version": 3
   },
   "file_extension": ".py",
   "mimetype": "text/x-python",
   "name": "python",
   "nbconvert_exporter": "python",
   "pygments_lexer": "ipython3",
   "version": "3.6.4"
  }
 },
 "nbformat": 4,
 "nbformat_minor": 2
}
