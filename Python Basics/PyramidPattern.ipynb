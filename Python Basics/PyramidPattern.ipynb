{
 "cells": [
  {
   "cell_type": "code",
   "execution_count": 16,
   "metadata": {},
   "outputs": [
    {
     "name": "stdout",
     "output_type": "stream",
     "text": [
      "4\n",
      "1             1 \n",
      "1 2         2 1 \n",
      "1 2 3     3 2 1 \n",
      "1 2 3 4 4 3 2 1 \n"
     ]
    }
   ],
   "source": [
    "\n",
    "def pattern(n):\n",
    "    k = 2*n - 2\n",
    "    for i in range(0,n):\n",
    "        \n",
    "        for j  in range(0,i + 1):\n",
    "            print(j + 1, end = \" \")\n",
    "    \n",
    "        #print spaces\n",
    "        for space in range(0, 2*k):\n",
    "            print(end = \" \")\n",
    "    \n",
    "        k = k - 2\n",
    "    \n",
    "        x = i + 1\n",
    "        for j in range(0,i + 1):\n",
    "            print(x, end = \" \")\n",
    "            x = x - 1\n",
    "        print()\n",
    "            \n",
    "#Driver Code\n",
    "n = int(input())\n",
    "pattern(n)"
   ]
  }
 ],
 "metadata": {
  "kernelspec": {
   "display_name": "Python 3",
   "language": "python",
   "name": "python3"
  },
  "language_info": {
   "codemirror_mode": {
    "name": "ipython",
    "version": 3
   },
   "file_extension": ".py",
   "mimetype": "text/x-python",
   "name": "python",
   "nbconvert_exporter": "python",
   "pygments_lexer": "ipython3",
   "version": "3.6.4"
  }
 },
 "nbformat": 4,
 "nbformat_minor": 2
}
