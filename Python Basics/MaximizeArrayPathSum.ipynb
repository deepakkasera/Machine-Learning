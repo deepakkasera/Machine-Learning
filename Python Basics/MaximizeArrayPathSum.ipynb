{
 "cells": [
  {
   "cell_type": "code",
   "execution_count": 4,
   "metadata": {},
   "outputs": [
    {
     "name": "stdout",
     "output_type": "stream",
     "text": [
      "2\n",
      "10 12\n",
      "3\n",
      "5 7 9 \n",
      "22\n"
     ]
    }
   ],
   "source": [
    "def maxPathSum(a1, m, a2, n):\n",
    "  i,j = 0, 0\n",
    "  ans, sum1, sum2 = 0, 0, 0\n",
    "  \n",
    "  while i < m and j < n:\n",
    "    \n",
    "    if a1[i] < a2[j]:\n",
    "      sum1 += a1[i]\n",
    "      i += 1\n",
    "    \n",
    "    elif a2[j] < a1[i]:\n",
    "      sum2 += a2[j]\n",
    "      j += 1\n",
    "      \n",
    "    else:\n",
    "      ans += max(sum1, sum2)\n",
    "      \n",
    "      sum1, sum2 = 0, 0\n",
    "      \n",
    "      while i < m and j < n and (a1[i] == a2[j]):\n",
    "        ans += a1[i]\n",
    "        i += 1\n",
    "        j += 1\n",
    "        \n",
    "  while i < m:\n",
    "    sum1 += a1[i]\n",
    "    i += 1\n",
    "    \n",
    "  while j < n:\n",
    "    sum2 += a2[j]\n",
    "    j += 1\n",
    "    \n",
    "  ans += max(sum1, sum2) \n",
    "  return ans\n",
    "  \n",
    "  \n",
    "m = int(input())\n",
    "a1 = list(map(int, input().strip().split(\" \")[:m]))\n",
    "n = int(input())\n",
    "a2 = list(map(int, input().strip().split(\" \")[:n]))\n",
    "#m = len(a1)\n",
    "#n = len(a2)\n",
    "print(maxPathSum(a1, m, a2, n))"
   ]
  }
 ],
 "metadata": {
  "kernelspec": {
   "display_name": "Python 3",
   "language": "python",
   "name": "python3"
  },
  "language_info": {
   "codemirror_mode": {
    "name": "ipython",
    "version": 3
   },
   "file_extension": ".py",
   "mimetype": "text/x-python",
   "name": "python",
   "nbconvert_exporter": "python",
   "pygments_lexer": "ipython3",
   "version": "3.6.4"
  }
 },
 "nbformat": 4,
 "nbformat_minor": 2
}
