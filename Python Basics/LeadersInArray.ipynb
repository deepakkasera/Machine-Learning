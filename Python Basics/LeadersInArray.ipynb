{
 "cells": [
  {
   "cell_type": "code",
   "execution_count": 2,
   "metadata": {},
   "outputs": [
    {
     "name": "stdout",
     "output_type": "stream",
     "text": [
      "6\n",
      "16 17 4 3 5 2 \n",
      "2 5 17 "
     ]
    }
   ],
   "source": [
    "def leaders(A):\n",
    "    max_from_right = A[-1]\n",
    "    print(max_from_right, end = \" \")\n",
    "    for i in range(len(A) - 2, 0, -1):\n",
    "        if max_from_right < A[i]:\n",
    "            max_from_right = A[i]\n",
    "            print(A[i], end = \" \")\n",
    "            \n",
    "            \n",
    "n = int(input())\n",
    "A = [int(x) for x in input().strip().split()]\n",
    "leaders(A)"
   ]
  }
 ],
 "metadata": {
  "kernelspec": {
   "display_name": "Python 3",
   "language": "python",
   "name": "python3"
  },
  "language_info": {
   "codemirror_mode": {
    "name": "ipython",
    "version": 3
   },
   "file_extension": ".py",
   "mimetype": "text/x-python",
   "name": "python",
   "nbconvert_exporter": "python",
   "pygments_lexer": "ipython3",
   "version": "3.6.4"
  }
 },
 "nbformat": 4,
 "nbformat_minor": 2
}
