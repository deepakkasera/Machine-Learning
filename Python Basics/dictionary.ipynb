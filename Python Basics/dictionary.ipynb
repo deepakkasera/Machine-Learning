{
 "cells": [
  {
   "cell_type": "code",
   "execution_count": 31,
   "metadata": {},
   "outputs": [
    {
     "name": "stdout",
     "output_type": "stream",
     "text": [
      "{23: 34, 'Deepak': 'Kasera', 1: 2}\n",
      "3\n",
      "dict_keys([23, 'Deepak', 1])\n",
      "False\n"
     ]
    },
    {
     "data": {
      "text/plain": [
       "2234"
      ]
     },
     "execution_count": 31,
     "metadata": {},
     "output_type": "execute_result"
    }
   ],
   "source": [
    "#dictionaries in python are equivalent to maps in C++ or Java\n",
    "d = {}\n",
    "d[23] = 34\n",
    "d[\"Deepak\"] = \"Kasera\"\n",
    "d[1] = 2\n",
    "print(d)\n",
    "print(len(d))\n",
    "# d.clear()\n",
    "# print(d)\n",
    "print(d.keys())\n",
    "\n",
    "print(24 in d)\n",
    "\n",
    "d2 = {23 : 1, \"Deepak\" : \"Kasera\", 1 : 2234}\n",
    "d2[1] #if key is not present then insert otherwise update the original key"
   ]
  },
  {
   "cell_type": "code",
   "execution_count": 14,
   "metadata": {},
   "outputs": [
    {
     "name": "stdout",
     "output_type": "stream",
     "text": [
      "23: 34\n",
      "Deepak: Kasera\n",
      "1: 2\n"
     ]
    }
   ],
   "source": [
    "for i in d:\n",
    "    print(i, end = \": \")\n",
    "    print(d[i])"
   ]
  },
  {
   "cell_type": "code",
   "execution_count": 21,
   "metadata": {},
   "outputs": [
    {
     "data": {
      "text/plain": [
       "{1: 2, 'Deepak': 'Kasera'}"
      ]
     },
     "execution_count": 21,
     "metadata": {},
     "output_type": "execute_result"
    }
   ],
   "source": [
    "d[\"Deepak\"] = \"Kasera\"\n",
    "d"
   ]
  },
  {
   "cell_type": "code",
   "execution_count": 24,
   "metadata": {},
   "outputs": [
    {
     "data": {
      "text/plain": [
       "False"
      ]
     },
     "execution_count": 24,
     "metadata": {},
     "output_type": "execute_result"
    }
   ],
   "source": [
    "d1 = {}\n",
    "d1[2] = 1\n",
    "d2 = {}\n",
    "d2[2] = 10\n",
    "d1 == d2"
   ]
  }
 ],
 "metadata": {
  "kernelspec": {
   "display_name": "Python 3",
   "language": "python",
   "name": "python3"
  },
  "language_info": {
   "codemirror_mode": {
    "name": "ipython",
    "version": 3
   },
   "file_extension": ".py",
   "mimetype": "text/x-python",
   "name": "python",
   "nbconvert_exporter": "python",
   "pygments_lexer": "ipython3",
   "version": "3.6.4"
  }
 },
 "nbformat": 4,
 "nbformat_minor": 2
}
