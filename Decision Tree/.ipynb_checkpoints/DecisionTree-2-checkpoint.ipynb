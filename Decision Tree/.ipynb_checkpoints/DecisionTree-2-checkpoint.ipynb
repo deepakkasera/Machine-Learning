{
 "cells": [
  {
   "cell_type": "code",
   "execution_count": 1,
   "metadata": {},
   "outputs": [],
   "source": [
    "import numpy as np\n",
    "import pandas as pd\n",
    "from sklearn.metrics import confusion_matrix \n",
    "from sklearn import model_selection\n",
    "from sklearn.tree import DecisionTreeClassifier\n",
    "from sklearn.metrics import accuracy_score\n",
    "from sklearn.metrics import classification_report"
   ]
  },
  {
   "cell_type": "code",
   "execution_count": 2,
   "metadata": {},
   "outputs": [],
   "source": [
    "def import_data():\n",
    "    balance_data = pd.read_csv('https://archive.ics.uci.edu/ml/machine-learning-'+\n",
    "                                'databases/balance-scale/balance-scale.data', \n",
    "                                 sep= ',', header = None)\n",
    "    print(\"DataSet length:\", len(balance_data))\n",
    "    print(\"Dataset Shape: \", balance_data.shape)\n",
    "    print(\"Dataset: \")\n",
    "    print(balance_data.head())\n",
    "    return balance_data"
   ]
  },
  {
   "cell_type": "code",
   "execution_count": 3,
   "metadata": {},
   "outputs": [],
   "source": [
    "def splitDataSet(balance_data):\n",
    "    X = balance_data.iloc[:, 1:5]\n",
    "    Y = balance_data.iloc[:, 0]\n",
    "    \n",
    "    X_train, X_test, Y_train, Y_test = model_selection.train_test_split(X, Y, \n",
    "                                                                        test_size = 0.3, \n",
    "                                                                        random_state = 100)\n",
    "    return X, Y, X_train, X_test, Y_train, Y_test"
   ]
  },
  {
   "cell_type": "code",
   "execution_count": 4,
   "metadata": {},
   "outputs": [],
   "source": [
    "def train_using_gini_index(X_train, Y_train):\n",
    "    clf_gini = DecisionTreeClassifier(criterion=\"gini\", \n",
    "                                      random_state=100, \n",
    "                                      max_depth=3, \n",
    "                                      min_samples_leaf=5)\n",
    "    clf_gini.fit(X_train, Y_train)\n",
    "    return clf_gini"
   ]
  },
  {
   "cell_type": "code",
   "execution_count": 5,
   "metadata": {},
   "outputs": [],
   "source": [
    "def prediction(X_test, clf_obj):\n",
    "    Y_test_pred = clf_obj.predict(X_test)\n",
    "    print(\"Predicted Values : \")\n",
    "    print(Y_test_pred)\n",
    "    return Y_test_pred"
   ]
  },
  {
   "cell_type": "code",
   "execution_count": 6,
   "metadata": {},
   "outputs": [],
   "source": [
    "def calculate_accuracy(Y_test, Y_test_pred):\n",
    "    print(\"Confusion matrix \", confusion_matrix(Y_test, Y_test_pred))\n",
    "    print(\"Accuracy : \", accuracy_score(Y_test, Y_test_pred) * 100)\n",
    "    print(\"Report : \", classification_report(y_test, y_pred)) "
   ]
  },
  {
   "cell_type": "code",
   "execution_count": 7,
   "metadata": {},
   "outputs": [],
   "source": [
    "def main():\n",
    "    data = import_data()\n",
    "    X, Y, X_train, X_test, Y_train, Y_test = splitDataSet(data)\n",
    "    \n",
    "    print(\"Result using Gini Index :\")\n",
    "    clf_gini = train_using_gini_index(X_train, Y_train)\n",
    "    Y_pred_gini = prediction(X_test, clf_gini)\n",
    "    calculate_accuracy(X_test, Y_test_pred)"
   ]
  },
  {
   "cell_type": "code",
   "execution_count": 8,
   "metadata": {},
   "outputs": [],
   "source": [
    "#calling main function\n",
    "if __name__==\"main\":\n",
    "    main()"
   ]
  }
 ],
 "metadata": {
  "kernelspec": {
   "display_name": "Python 3",
   "language": "python",
   "name": "python3"
  },
  "language_info": {
   "codemirror_mode": {
    "name": "ipython",
    "version": 3
   },
   "file_extension": ".py",
   "mimetype": "text/x-python",
   "name": "python",
   "nbconvert_exporter": "python",
   "pygments_lexer": "ipython3",
   "version": "3.6.4"
  }
 },
 "nbformat": 4,
 "nbformat_minor": 2
}
