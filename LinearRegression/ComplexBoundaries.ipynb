{
 "cells": [
  {
   "cell_type": "code",
   "execution_count": 3,
   "metadata": {},
   "outputs": [],
   "source": [
    "import numpy as np\n",
    "from sklearn import datasets"
   ]
  },
  {
   "cell_type": "code",
   "execution_count": 6,
   "metadata": {},
   "outputs": [],
   "source": [
    "boston = datasets.load_boston()\n",
    "X = boston.data\n",
    "Y = boston.target"
   ]
  },
  {
   "cell_type": "code",
   "execution_count": 8,
   "metadata": {},
   "outputs": [
    {
     "data": {
      "text/plain": [
       "(506, 13)"
      ]
     },
     "execution_count": 8,
     "metadata": {},
     "output_type": "execute_result"
    }
   ],
   "source": [
    "X.shape"
   ]
  },
  {
   "cell_type": "code",
   "execution_count": 10,
   "metadata": {},
   "outputs": [
    {
     "data": {
      "text/plain": [
       "(506,)"
      ]
     },
     "execution_count": 10,
     "metadata": {},
     "output_type": "execute_result"
    }
   ],
   "source": [
    "Y.shape"
   ]
  },
  {
   "cell_type": "code",
   "execution_count": 26,
   "metadata": {},
   "outputs": [
    {
     "name": "stdout",
     "output_type": "stream",
     "text": [
      "['CRIM' 'ZN' 'INDUS' 'CHAS' 'NOX' 'RM' 'AGE' 'DIS' 'RAD' 'TAX' 'PTRATIO'\n",
      " 'B' 'LSTAT']\n"
     ]
    }
   ],
   "source": [
    "import pandas as pd\n",
    "df = pd.DataFrame(X)\n",
    "print(boston.feature_names)\n",
    "df.columns = boston.feature_names\n",
    "# print(df)\n",
    "df[\"age_age\"] = df.AGE ** 2\n",
    "df[\"crim_crim\"] = df.CRIM ** 2\n",
    "df[\"zn_zn\"] = df.ZN ** 2\n",
    "df[\"indus_indus\"] = df.INDUS ** 2\n",
    "df[\"chas_chas\"] = df.CHAS ** 2\n",
    "df[\"nox_nox\"] = df.NOX ** 2\n",
    "df[\"rm_rm\"] = df.RM ** 2\n",
    "df[\"dis_dis\"] = df.DIS ** 2\n",
    "df[\"rad_rad\"] = df.RAD ** 2\n",
    "df[\"tax_tax\"] = df.TAX ** 2\n",
    "df[\"ptratio_ptratio\"] = df.PTRATIO ** 2\n",
    "df[\"b_b\"] = df.B ** 2\n",
    "df[\"lstat_lstat\"] = df.LSTAT ** 2\n",
    "# df.describe\n",
    "X2 = df.values\n",
    "# X2.shape"
   ]
  },
  {
   "cell_type": "code",
   "execution_count": 29,
   "metadata": {},
   "outputs": [],
   "source": [
    "from sklearn import model_selection\n",
    "X_train, X_test, Y_train, Y_test = model_selection.train_test_split(X, Y, random_state = 0)\n",
    "X2_train, X2_test, Y2_train, Y2_test = model_selection.train_test_split(X2, Y, random_state = 0)\n"
   ]
  },
  {
   "cell_type": "code",
   "execution_count": 30,
   "metadata": {},
   "outputs": [],
   "source": [
    "from sklearn.linear_model import LinearRegression\n",
    "algo1 = LinearRegression()\n",
    "algo2 = LinearRegression()\n"
   ]
  },
  {
   "cell_type": "code",
   "execution_count": 32,
   "metadata": {},
   "outputs": [
    {
     "data": {
      "text/plain": [
       "LinearRegression(copy_X=True, fit_intercept=True, n_jobs=1, normalize=False)"
      ]
     },
     "execution_count": 32,
     "metadata": {},
     "output_type": "execute_result"
    }
   ],
   "source": [
    "algo1.fit(X_train, Y_train)\n",
    "algo2.fit(X2_train, Y2_train)"
   ]
  },
  {
   "cell_type": "code",
   "execution_count": 35,
   "metadata": {},
   "outputs": [
    {
     "name": "stdout",
     "output_type": "stream",
     "text": [
      "Train score  0.7697448370563938\n",
      "Test score  0.6353620786674439\n",
      "Train2 score  0.8596064343892953\n",
      "Test2 score  0.7199219885917905\n"
     ]
    }
   ],
   "source": [
    "Y_pred = algo1.predict(X_test)\n",
    "train_score = algo1.score(X_train, Y_train)\n",
    "test_score = algo1.score(X_test, Y_test)\n",
    "print(\"Train score \", train_score)\n",
    "print(\"Test score \", test_score)\n",
    "\n",
    "\n",
    "train_score_2 = algo2.score(X2_train, Y2_train)\n",
    "test_score_2 = algo2.score(X2_test, Y2_test)\n",
    "print(\"Train2 score \", train_score_2)\n",
    "print(\"Test2 score \", test_score_2)"
   ]
  }
 ],
 "metadata": {
  "kernelspec": {
   "display_name": "Python 3",
   "language": "python",
   "name": "python3"
  },
  "language_info": {
   "codemirror_mode": {
    "name": "ipython",
    "version": 3
   },
   "file_extension": ".py",
   "mimetype": "text/x-python",
   "name": "python",
   "nbconvert_exporter": "python",
   "pygments_lexer": "ipython3",
   "version": "3.6.4"
  }
 },
 "nbformat": 4,
 "nbformat_minor": 2
}
