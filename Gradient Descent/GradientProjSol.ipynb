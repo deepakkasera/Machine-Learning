{
 "cells": [
  {
   "cell_type": "code",
   "execution_count": 237,
   "metadata": {},
   "outputs": [],
   "source": [
    "import numpy as np\n",
    "import pandas as pd\n",
    "from sklearn.ensemble import RandomForestClassifier as rfc"
   ]
  },
  {
   "cell_type": "code",
   "execution_count": 239,
   "metadata": {},
   "outputs": [
    {
     "name": "stderr",
     "output_type": "stream",
     "text": [
      "C:\\Users\\bansa\\Anaconda3\\lib\\site-packages\\ipykernel_launcher.py:12: SettingWithCopyWarning: \n",
      "A value is trying to be set on a copy of a slice from a DataFrame\n",
      "\n",
      "See the caveats in the documentation: http://pandas.pydata.org/pandas-docs/stable/indexing.html#indexing-view-versus-copy\n",
      "  if sys.path[0] == '':\n",
      "C:\\Users\\bansa\\Anaconda3\\lib\\site-packages\\ipykernel_launcher.py:10: SettingWithCopyWarning: \n",
      "A value is trying to be set on a copy of a slice from a DataFrame\n",
      "\n",
      "See the caveats in the documentation: http://pandas.pydata.org/pandas-docs/stable/indexing.html#indexing-view-versus-copy\n",
      "  # Remove the CWD from sys.path while we load stuff.\n"
     ]
    }
   ],
   "source": [
    "x = pd.read_csv(\"0000000000002429_training_titanic_x_y_train.csv\")\n",
    "df = pd.DataFrame(x)\n",
    "df.drop(['Name'],axis = 1,inplace = True)\n",
    "df.drop(['Ticket'],axis = 1,inplace = True)\n",
    "df.drop(['Cabin'],axis = 1,inplace = True)\n",
    "df.drop(['Embarked'],axis = 1, inplace = True)\n",
    "df['Pclass'] = df['Pclass']/3\n",
    "for i in range(668):\n",
    "    if(df['Sex'][i] == 'male'):\n",
    "        df['Sex'][i] = 0\n",
    "    else:\n",
    "        df['Sex'][i] = 1\n",
    "df.Age.fillna(df.Age.mean(), inplace = True)\n",
    "df.to_csv(\"csvfile3.csv\" , encoding='utf-8',header = None, index =False)"
   ]
  },
  {
   "cell_type": "code",
   "execution_count": 240,
   "metadata": {},
   "outputs": [
    {
     "name": "stderr",
     "output_type": "stream",
     "text": [
      "C:\\Users\\bansa\\Anaconda3\\lib\\site-packages\\ipykernel_launcher.py:10: SettingWithCopyWarning: \n",
      "A value is trying to be set on a copy of a slice from a DataFrame\n",
      "\n",
      "See the caveats in the documentation: http://pandas.pydata.org/pandas-docs/stable/indexing.html#indexing-view-versus-copy\n",
      "  # Remove the CWD from sys.path while we load stuff.\n",
      "C:\\Users\\bansa\\Anaconda3\\lib\\site-packages\\ipykernel_launcher.py:12: SettingWithCopyWarning: \n",
      "A value is trying to be set on a copy of a slice from a DataFrame\n",
      "\n",
      "See the caveats in the documentation: http://pandas.pydata.org/pandas-docs/stable/indexing.html#indexing-view-versus-copy\n",
      "  if sys.path[0] == '':\n"
     ]
    }
   ],
   "source": [
    "x = pd.read_csv(\"0000000000002429_test_titanic_x_test.csv\")\n",
    "df = pd.DataFrame(x)\n",
    "df.drop(['Name'],axis = 1,inplace = True)\n",
    "df.drop(['Ticket'],axis = 1,inplace = True)\n",
    "df.drop(['Cabin'],axis = 1,inplace = True)\n",
    "df.drop(['Embarked'],axis = 1, inplace = True)\n",
    "df['Pclass'] = df['Pclass']/3\n",
    "for i in range(223):\n",
    "    if(df['Sex'][i] == 'male'):\n",
    "        df['Sex'][i] = 0\n",
    "    else:\n",
    "        df['Sex'][i] = 1\n",
    "df.Age.fillna(df.Age.mean(), inplace = True)\n",
    "df.to_csv(\"csvfile4.csv\" , encoding='utf-8',header = None, index =False)"
   ]
  },
  {
   "cell_type": "code",
   "execution_count": 241,
   "metadata": {},
   "outputs": [],
   "source": [
    "x_train = np.genfromtxt(\"csvfile3.csv\", delimiter = \",\",usecols = (0,1,2,3,4,5))\n",
    "y_train = np.genfromtxt(\"csvfile3.csv\", delimiter = \",\",usecols = (6))\n",
    "x_test = np.genfromtxt(\"csvfile4.csv\", delimiter = \",\",usecols = (0,1,2,3,4,5))"
   ]
  },
  {
   "cell_type": "code",
   "execution_count": 242,
   "metadata": {},
   "outputs": [],
   "source": [
    "from sklearn.preprocessing import Imputer\n",
    "my_imputer = Imputer()\n",
    "x_train = my_imputer.fit_transform(x_train)\n",
    "x_test = my_imputer.transform(x_test)"
   ]
  },
  {
   "cell_type": "code",
   "execution_count": 243,
   "metadata": {},
   "outputs": [],
   "source": [
    "from xgboost import XGBClassifier"
   ]
  },
  {
   "cell_type": "code",
   "execution_count": 248,
   "metadata": {},
   "outputs": [
    {
     "name": "stderr",
     "output_type": "stream",
     "text": [
      "C:\\Users\\bansa\\Anaconda3\\lib\\site-packages\\sklearn\\preprocessing\\label.py:151: DeprecationWarning: The truth value of an empty array is ambiguous. Returning False, but in future this will result in an error. Use `array.size > 0` to check that an array is not empty.\n",
      "  if diff:\n"
     ]
    }
   ],
   "source": [
    "clf = XGBClassifier(n_estimators=1000, learning_rate=0.1)\n",
    "clf.fit(x_train,y_train)\n",
    "y_pred = clf.predict(x_test)\n",
    "df = pd.DataFrame(y_pred)\n",
    "df.to_csv(\"csvfile1.csv\" , encoding='utf-8',header = None, index =False)"
   ]
  },
  {
   "cell_type": "code",
   "execution_count": 249,
   "metadata": {},
   "outputs": [
    {
     "name": "stderr",
     "output_type": "stream",
     "text": [
      "C:\\Users\\bansa\\Anaconda3\\lib\\site-packages\\sklearn\\preprocessing\\label.py:151: DeprecationWarning: The truth value of an empty array is ambiguous. Returning False, but in future this will result in an error. Use `array.size > 0` to check that an array is not empty.\n",
      "  if diff:\n"
     ]
    },
    {
     "data": {
      "text/plain": [
       "0.9476047904191617"
      ]
     },
     "execution_count": 249,
     "metadata": {},
     "output_type": "execute_result"
    }
   ],
   "source": [
    "clf.score(x_train,y_train)"
   ]
  }
 ],
 "metadata": {
  "kernelspec": {
   "display_name": "Python 3",
   "language": "python",
   "name": "python3"
  },
  "language_info": {
   "codemirror_mode": {
    "name": "ipython",
    "version": 3
   },
   "file_extension": ".py",
   "mimetype": "text/x-python",
   "name": "python",
   "nbconvert_exporter": "python",
   "pygments_lexer": "ipython3",
   "version": "3.6.4"
  }
 },
 "nbformat": 4,
 "nbformat_minor": 2
}
