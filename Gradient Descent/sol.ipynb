{
 "cells": [
  {
   "cell_type": "code",
   "execution_count": null,
   "metadata": {},
   "outputs": [],
   "source": [
    "import numpy as np\n",
    "from sklearn import ensemble\n",
    "data = np.loadtxt(\"0000000000002419_training_ccpp_x_y_train (1).csv\",delimiter=\",\")\n",
    "test = np.loadtxt(\"0000000000002419_test_ccpp_x_test.csv\",delimiter = \",\")\n",
    "params = {'n_estimators': 500, 'max_depth': 4, 'min_samples_split': 2,\n",
    "          'learning_rate': 0.01, 'loss': 'ls'}\n",
    "\n",
    "alg1 = ensemble.GradientBoostingRegressor(n_estimators = 2500, max_depth = 4, min_samples_split = 2,\n",
    "          learning_rate = 0.1, loss = 'ls')\n",
    "\n",
    "alg1.fit(data[:,0:data.shape[1]-1], data[:,data.shape[1]-1])\n",
    "a = alg1.predict(test)\n",
    "np.savetxt('prediction0.csv',a,fmt=\"%.5f\") \n",
    "alg1.score(data[:,0:data.shape[1]-1], data[:,data.shape[1]-1])"
   ]
  }
 ],
 "metadata": {
  "kernelspec": {
   "display_name": "Python 3",
   "language": "python",
   "name": "python3"
  },
  "language_info": {
   "codemirror_mode": {
    "name": "ipython",
    "version": 3
   },
   "file_extension": ".py",
   "mimetype": "text/x-python",
   "name": "python",
   "nbconvert_exporter": "python",
   "pygments_lexer": "ipython3",
   "version": "3.6.4"
  }
 },
 "nbformat": 4,
 "nbformat_minor": 2
}
