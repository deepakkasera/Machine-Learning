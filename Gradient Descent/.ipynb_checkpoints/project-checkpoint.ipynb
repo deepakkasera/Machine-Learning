{
 "cells": [
  {
   "cell_type": "code",
   "execution_count": 7,
   "metadata": {},
   "outputs": [
    {
     "data": {
      "text/plain": [
       "0.9999999988703779"
      ]
     },
     "execution_count": 7,
     "metadata": {},
     "output_type": "execute_result"
    }
   ],
   "source": [
    "import numpy as np\n",
    "from sklearn import ensemble\n",
    "data = np.loadtxt(\"train.csv\", delimiter = \",\")\n",
    "test = np.loadtxt(\"x_test.csv\", delimiter = \",\")\n",
    "params = {'n_estimators' : 500, 'max_depth' : 4, 'min_samples_split': 2, \n",
    "            'learning_rate': 0.001, 'loss' : 'ls'}\n",
    "\n",
    "algo = ensemble.GradientBoostingRegressor(n_estimators = 2500, max_depth = 4, min_samples_split = 2,\n",
    "          learning_rate = 0.1, loss = 'ls')\n",
    "\n",
    "algo.fit(data[:, 0:data.shape[1] - 1], data[:, data.shape[1] - 1])\n",
    "\n",
    "a = algo.predict(test)\n",
    "np.savetxt('ans.csv', a)\n",
    "algo.score(data[:,0:data.shape[1]-1], data[:,data.shape[1]-1])"
   ]
  }
 ],
 "metadata": {
  "kernelspec": {
   "display_name": "Python 3",
   "language": "python",
   "name": "python3"
  },
  "language_info": {
   "codemirror_mode": {
    "name": "ipython",
    "version": 3
   },
   "file_extension": ".py",
   "mimetype": "text/x-python",
   "name": "python",
   "nbconvert_exporter": "python",
   "pygments_lexer": "ipython3",
   "version": "3.6.4"
  }
 },
 "nbformat": 4,
 "nbformat_minor": 2
}
