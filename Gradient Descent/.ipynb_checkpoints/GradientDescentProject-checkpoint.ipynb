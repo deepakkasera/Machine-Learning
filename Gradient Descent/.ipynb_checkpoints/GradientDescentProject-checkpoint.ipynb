{
 "cells": [
  {
   "cell_type": "code",
   "execution_count": null,
   "metadata": {},
   "outputs": [],
   "source": [
    "import numpy as np\n",
    "import pandas as pd"
   ]
  },
  {
   "cell_type": "code",
   "execution_count": null,
   "metadata": {},
   "outputs": [],
   "source": [
    "print(df.shape)\n",
    "print(df.shape[1])\n",
    "num_features = df.shape[1] - 1\n",
    "print(num_features)"
   ]
  },
  {
   "cell_type": "code",
   "execution_count": null,
   "metadata": {},
   "outputs": [],
   "source": [
    "def step_gradient(data, learning_rate, num_iterations, m):\n",
    "    num_features = df.shape[1] - 1\n",
    "    # m_slope = [0] * (num_features + 1)\n",
    "    m_slope = np.zeros(num_features + 1)\n",
    "    # M is the number of data points\n",
    "    new_m = np.zeros(num_features + 1)\n",
    "    M = len(data)\n",
    "    for iterations in range(num_iterations):\n",
    "        for i in range(M):\n",
    "            y_i = data[i, num_features]\n",
    "            for j in range(num_features + 1):\n",
    "                m_slope[j] += (-2 / M) * y_i\n",
    "                if j == num_features:\n",
    "                    x_i_j = 1\n",
    "                else:\n",
    "                    x_i_j = data[i, j];\n",
    "                m_slope[j] += ((-2 / M) * (- m[j] * x_i_j))\n",
    "    for i in range(num_features + 1):\n",
    "        new_m[i] = m[i] - learning_rate * m_slope[i]\n",
    "    return new_m"
   ]
  },
  {
   "cell_type": "code",
   "execution_count": null,
   "metadata": {},
   "outputs": [],
   "source": [
    "def gradient_descent(data, learning_rate, num_iterations):\n",
    "    num_features = df.shape[1] - 1\n",
    "#     m = [0] * (num_features + 1)\n",
    "    m = np.zeros(num_features + 1)\n",
    "    for i in range(len(data)):\n",
    "        m = step_gradient(data, learning_rate, num_iterations, m)\n",
    "    return m"
   ]
  },
  {
   "cell_type": "code",
   "execution_count": null,
   "metadata": {},
   "outputs": [],
   "source": [
    "def run():\n",
    "    data = np.loadtxt(\"train.csv\", delimiter = \",\")\n",
    "    df = pd.DataFrame(data)\n",
    "    learning_rate = 0.001\n",
    "    num_iterations = 10\n",
    "    m = gradient_descent(data,  learning_rate, num_iterations)\n",
    "    print(m)"
   ]
  },
  {
   "cell_type": "code",
   "execution_count": null,
   "metadata": {},
   "outputs": [],
   "source": [
    "run()"
   ]
  },
  {
   "cell_type": "code",
   "execution_count": null,
   "metadata": {},
   "outputs": [],
   "source": []
  },
  {
   "cell_type": "code",
   "execution_count": null,
   "metadata": {},
   "outputs": [],
   "source": []
  },
  {
   "cell_type": "code",
   "execution_count": null,
   "metadata": {},
   "outputs": [],
   "source": []
  }
 ],
 "metadata": {
  "kernelspec": {
   "display_name": "Python 3",
   "language": "python",
   "name": "python3"
  },
  "language_info": {
   "codemirror_mode": {
    "name": "ipython",
    "version": 3
   },
   "file_extension": ".py",
   "mimetype": "text/x-python",
   "name": "python",
   "nbconvert_exporter": "python",
   "pygments_lexer": "ipython3",
   "version": "3.6.4"
  }
 },
 "nbformat": 4,
 "nbformat_minor": 2
}
