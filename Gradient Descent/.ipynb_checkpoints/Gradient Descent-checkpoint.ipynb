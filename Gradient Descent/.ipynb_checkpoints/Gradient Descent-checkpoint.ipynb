{
 "cells": [
  {
   "cell_type": "code",
   "execution_count": 30,
   "metadata": {},
   "outputs": [],
   "source": [
    "import numpy as np"
   ]
  },
  {
   "cell_type": "code",
   "execution_count": 31,
   "metadata": {},
   "outputs": [],
   "source": [
    "def step_gradient(points, learning_rate, m, c):\n",
    "    # m = m - learning_rate * slope(m)\n",
    "    m_slope = 0\n",
    "    c_slope = 0\n",
    "    for i in range(len(points)):\n",
    "        x = points[i, 0]\n",
    "        y = points[i, 1]\n",
    "        m_slope += (-2 / len(points)) * (y - m * x - c) * x\n",
    "        c_slope += (-2 / len(points)) * (y - m * x - c)\n",
    "    new_m = m - learning_rate * m_slope\n",
    "    new_c = c - learning_rate * c_slope\n",
    "    return new_m, new_c"
   ]
  },
  {
   "cell_type": "code",
   "execution_count": 52,
   "metadata": {},
   "outputs": [],
   "source": [
    "def gd(points, learning_rate, num_iterations):\n",
    "    m = 0\n",
    "    c = 0\n",
    "    for i in range(num_iterations):\n",
    "        m, c = step_gradient(points, learning_rate, m, c)\n",
    "#         print(\"Cost \", cost(points, m, c))\n",
    "    return m, c"
   ]
  },
  {
   "cell_type": "code",
   "execution_count": 53,
   "metadata": {},
   "outputs": [],
   "source": [
    "def cost(points, m, c):\n",
    "    total_cost = 0\n",
    "    N = len(points)\n",
    "    for i in range(N):\n",
    "        x = points[i, 0]\n",
    "        y = points[i, 1]\n",
    "        total_cost += (1 / N) * ((y - m * x - c) ** 2)\n",
    "        \n",
    "    return total_cost"
   ]
  },
  {
   "cell_type": "code",
   "execution_count": 57,
   "metadata": {},
   "outputs": [],
   "source": [
    "def run():\n",
    "    data = np.loadtxt(\"data.csv\", delimiter = \",\")\n",
    "    learning_rate = 0.0001\n",
    "    num_iterations = 100\n",
    "    m, c = gd(data, learning_rate, num_iterations)\n",
    "    print(m, c)"
   ]
  },
  {
   "cell_type": "code",
   "execution_count": 58,
   "metadata": {},
   "outputs": [
    {
     "name": "stdout",
     "output_type": "stream",
     "text": [
      "Cost  1484.5865574086486\n",
      "Cost  457.8542575737672\n",
      "Cost  199.5099857255389\n",
      "Cost  134.50591058200533\n",
      "Cost  118.1496934223995\n",
      "Cost  114.0341490603815\n",
      "Cost  112.99857731713657\n",
      "Cost  112.73798187568467\n",
      "Cost  112.6723843590911\n",
      "Cost  112.65585181499745\n",
      "Cost  112.65166489759581\n",
      "Cost  112.6505843615011\n",
      "Cost  112.65028544701502\n",
      "Cost  112.65018320293967\n",
      "Cost  112.650130445072\n",
      "Cost  112.65009013922885\n",
      "Cost  112.6500529669463\n",
      "Cost  112.65001658353178\n",
      "Cost  112.64998039901865\n",
      "Cost  112.64994426496071\n",
      "Cost  112.64990814400622\n",
      "Cost  112.64987202675677\n",
      "Cost  112.64983591084761\n",
      "Cost  112.64979979568368\n",
      "Cost  112.64976368111523\n",
      "Cost  112.64972756710469\n",
      "Cost  112.64969145364236\n",
      "Cost  112.64965534072611\n",
      "Cost  112.64961922835512\n",
      "Cost  112.64958311652944\n",
      "Cost  112.64954700524868\n",
      "Cost  112.64951089451318\n",
      "Cost  112.64947478432279\n",
      "Cost  112.64943867467744\n",
      "Cost  112.64940256557728\n",
      "Cost  112.64936645702221\n",
      "Cost  112.64933034901203\n",
      "Cost  112.64929424154704\n",
      "Cost  112.64925813462712\n",
      "Cost  112.6492220282522\n",
      "Cost  112.64918592242235\n",
      "Cost  112.64914981713754\n",
      "Cost  112.64911371239779\n",
      "Cost  112.64907760820296\n",
      "Cost  112.64904150455324\n",
      "Cost  112.64900540144845\n",
      "Cost  112.64896929888867\n",
      "Cost  112.64893319687388\n",
      "Cost  112.6488970954041\n",
      "Cost  112.64886099447922\n",
      "Cost  112.64882489409929\n",
      "Cost  112.64878879426433\n",
      "Cost  112.64875269497436\n",
      "Cost  112.64871659622933\n",
      "Cost  112.64868049802914\n",
      "Cost  112.648644400374\n",
      "Cost  112.64860830326366\n",
      "Cost  112.64857220669828\n",
      "Cost  112.64853611067772\n",
      "Cost  112.64850001520212\n",
      "Cost  112.64846392027131\n",
      "Cost  112.64842782588545\n",
      "Cost  112.64839173204442\n",
      "Cost  112.6483556387483\n",
      "Cost  112.64831954599697\n",
      "Cost  112.64828345379043\n",
      "Cost  112.64824736212877\n",
      "Cost  112.64821127101193\n",
      "Cost  112.64817518043986\n",
      "Cost  112.64813909041264\n",
      "Cost  112.64810300093015\n",
      "Cost  112.64806691199259\n",
      "Cost  112.64803082359971\n",
      "Cost  112.64799473575155\n",
      "Cost  112.64795864844827\n",
      "Cost  112.64792256168963\n",
      "Cost  112.64788647547579\n",
      "Cost  112.64785038980668\n",
      "Cost  112.64781430468226\n",
      "Cost  112.64777822010265\n",
      "Cost  112.6477421360677\n",
      "Cost  112.64770605257743\n",
      "Cost  112.64766996963193\n",
      "Cost  112.64763388723107\n",
      "Cost  112.64759780537483\n",
      "Cost  112.64756172406335\n",
      "Cost  112.6475256432965\n",
      "Cost  112.64748956307432\n",
      "Cost  112.64745348339677\n",
      "Cost  112.64741740426388\n",
      "Cost  112.6473813256756\n",
      "Cost  112.64734524763193\n",
      "Cost  112.64730917013293\n",
      "Cost  112.6472730931785\n",
      "Cost  112.64723701676861\n",
      "Cost  112.64720094090339\n",
      "Cost  112.64716486558265\n",
      "Cost  112.64712879080662\n",
      "Cost  112.64709271657513\n",
      "Cost  112.64705664288809\n",
      "1.4788027175308358 0.035074970592341756\n"
     ]
    }
   ],
   "source": [
    "run()"
   ]
  }
 ],
 "metadata": {
  "kernelspec": {
   "display_name": "Python 3",
   "language": "python",
   "name": "python3"
  },
  "language_info": {
   "codemirror_mode": {
    "name": "ipython",
    "version": 3
   },
   "file_extension": ".py",
   "mimetype": "text/x-python",
   "name": "python",
   "nbconvert_exporter": "python",
   "pygments_lexer": "ipython3",
   "version": "3.6.4"
  }
 },
 "nbformat": 4,
 "nbformat_minor": 2
}
