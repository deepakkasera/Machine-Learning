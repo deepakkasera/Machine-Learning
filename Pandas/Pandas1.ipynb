{
 "cells": [
  {
   "cell_type": "code",
   "execution_count": 21,
   "metadata": {},
   "outputs": [],
   "source": [
    "#pandas\n",
    "import pandas as pd"
   ]
  },
  {
   "cell_type": "code",
   "execution_count": 22,
   "metadata": {},
   "outputs": [],
   "source": [
    "iris = pd.read_csv(\"https://archive.ics.uci.edu/ml/machine-learning-databases/iris/iris.data\")"
   ]
  },
  {
   "cell_type": "code",
   "execution_count": 23,
   "metadata": {},
   "outputs": [
    {
     "name": "stdout",
     "output_type": "stream",
     "text": [
      "     5.1  3.5  1.4  0.2     Iris-setosa\n",
      "0    4.9  3.0  1.4  0.2     Iris-setosa\n",
      "1    4.7  3.2  1.3  0.2     Iris-setosa\n",
      "2    4.6  3.1  1.5  0.2     Iris-setosa\n",
      "3    5.0  3.6  1.4  0.2     Iris-setosa\n",
      "4    5.4  3.9  1.7  0.4     Iris-setosa\n",
      "5    4.6  3.4  1.4  0.3     Iris-setosa\n",
      "6    5.0  3.4  1.5  0.2     Iris-setosa\n",
      "7    4.4  2.9  1.4  0.2     Iris-setosa\n",
      "8    4.9  3.1  1.5  0.1     Iris-setosa\n",
      "9    5.4  3.7  1.5  0.2     Iris-setosa\n",
      "10   4.8  3.4  1.6  0.2     Iris-setosa\n",
      "11   4.8  3.0  1.4  0.1     Iris-setosa\n",
      "12   4.3  3.0  1.1  0.1     Iris-setosa\n",
      "13   5.8  4.0  1.2  0.2     Iris-setosa\n",
      "14   5.7  4.4  1.5  0.4     Iris-setosa\n",
      "15   5.4  3.9  1.3  0.4     Iris-setosa\n",
      "16   5.1  3.5  1.4  0.3     Iris-setosa\n",
      "17   5.7  3.8  1.7  0.3     Iris-setosa\n",
      "18   5.1  3.8  1.5  0.3     Iris-setosa\n",
      "19   5.4  3.4  1.7  0.2     Iris-setosa\n",
      "20   5.1  3.7  1.5  0.4     Iris-setosa\n",
      "21   4.6  3.6  1.0  0.2     Iris-setosa\n",
      "22   5.1  3.3  1.7  0.5     Iris-setosa\n",
      "23   4.8  3.4  1.9  0.2     Iris-setosa\n",
      "24   5.0  3.0  1.6  0.2     Iris-setosa\n",
      "25   5.0  3.4  1.6  0.4     Iris-setosa\n",
      "26   5.2  3.5  1.5  0.2     Iris-setosa\n",
      "27   5.2  3.4  1.4  0.2     Iris-setosa\n",
      "28   4.7  3.2  1.6  0.2     Iris-setosa\n",
      "29   4.8  3.1  1.6  0.2     Iris-setosa\n",
      "..   ...  ...  ...  ...             ...\n",
      "119  6.9  3.2  5.7  2.3  Iris-virginica\n",
      "120  5.6  2.8  4.9  2.0  Iris-virginica\n",
      "121  7.7  2.8  6.7  2.0  Iris-virginica\n",
      "122  6.3  2.7  4.9  1.8  Iris-virginica\n",
      "123  6.7  3.3  5.7  2.1  Iris-virginica\n",
      "124  7.2  3.2  6.0  1.8  Iris-virginica\n",
      "125  6.2  2.8  4.8  1.8  Iris-virginica\n",
      "126  6.1  3.0  4.9  1.8  Iris-virginica\n",
      "127  6.4  2.8  5.6  2.1  Iris-virginica\n",
      "128  7.2  3.0  5.8  1.6  Iris-virginica\n",
      "129  7.4  2.8  6.1  1.9  Iris-virginica\n",
      "130  7.9  3.8  6.4  2.0  Iris-virginica\n",
      "131  6.4  2.8  5.6  2.2  Iris-virginica\n",
      "132  6.3  2.8  5.1  1.5  Iris-virginica\n",
      "133  6.1  2.6  5.6  1.4  Iris-virginica\n",
      "134  7.7  3.0  6.1  2.3  Iris-virginica\n",
      "135  6.3  3.4  5.6  2.4  Iris-virginica\n",
      "136  6.4  3.1  5.5  1.8  Iris-virginica\n",
      "137  6.0  3.0  4.8  1.8  Iris-virginica\n",
      "138  6.9  3.1  5.4  2.1  Iris-virginica\n",
      "139  6.7  3.1  5.6  2.4  Iris-virginica\n",
      "140  6.9  3.1  5.1  2.3  Iris-virginica\n",
      "141  5.8  2.7  5.1  1.9  Iris-virginica\n",
      "142  6.8  3.2  5.9  2.3  Iris-virginica\n",
      "143  6.7  3.3  5.7  2.5  Iris-virginica\n",
      "144  6.7  3.0  5.2  2.3  Iris-virginica\n",
      "145  6.3  2.5  5.0  1.9  Iris-virginica\n",
      "146  6.5  3.0  5.2  2.0  Iris-virginica\n",
      "147  6.2  3.4  5.4  2.3  Iris-virginica\n",
      "148  5.9  3.0  5.1  1.8  Iris-virginica\n",
      "\n",
      "[149 rows x 5 columns]\n",
      "<class 'pandas.core.frame.DataFrame'>\n"
     ]
    }
   ],
   "source": [
    "print(iris)\n",
    "print(type(iris))"
   ]
  },
  {
   "cell_type": "code",
   "execution_count": 24,
   "metadata": {},
   "outputs": [],
   "source": [
    "#make a copy of iris dataframe(df)\n",
    "df = iris.copy()\n"
   ]
  },
  {
   "cell_type": "code",
   "execution_count": 27,
   "metadata": {},
   "outputs": [
    {
     "data": {
      "text/plain": [
       "Index(['sl', 'sw', 'pl', 'pw', 'flower_type'], dtype='object')"
      ]
     },
     "execution_count": 27,
     "metadata": {},
     "output_type": "execute_result"
    }
   ],
   "source": [
    "#column headers\n",
    "df.columns = ['sl', 'sw', 'pl', 'pw', 'flower_type']\n",
    "df.columns"
   ]
  },
  {
   "cell_type": "code",
   "execution_count": 29,
   "metadata": {},
   "outputs": [
    {
     "name": "stdout",
     "output_type": "stream",
     "text": [
      "    sl   sw   pl   pw  flower_type\n",
      "0  4.9  3.0  1.4  0.2  Iris-setosa\n",
      "1  4.7  3.2  1.3  0.2  Iris-setosa\n",
      "2  4.6  3.1  1.5  0.2  Iris-setosa\n",
      "(149, 5)\n",
      "sl             float64\n",
      "sw             float64\n",
      "pl             float64\n",
      "pw             float64\n",
      "flower_type     object\n",
      "dtype: object\n"
     ]
    }
   ],
   "source": [
    "print(df.head(3))\n",
    "print(df.shape)\n",
    "print(df.dtypes)"
   ]
  },
  {
   "cell_type": "code",
   "execution_count": 40,
   "metadata": {},
   "outputs": [
    {
     "name": "stdout",
     "output_type": "stream",
     "text": [
      "               sl          sw          pl          pw\n",
      "count  149.000000  149.000000  149.000000  149.000000\n",
      "mean     5.848322    3.051007    3.774497    1.205369\n",
      "std      0.828594    0.433499    1.759651    0.761292\n",
      "min      4.300000    2.000000    1.000000    0.100000\n",
      "25%      5.100000    2.800000    1.600000    0.300000\n",
      "50%      5.800000    3.000000    4.400000    1.300000\n",
      "75%      6.400000    3.300000    5.100000    1.800000\n",
      "max      7.900000    4.400000    6.900000    2.500000\n",
      "0      4.9\n",
      "1      4.7\n",
      "2      4.6\n",
      "3      5.0\n",
      "4      5.4\n",
      "5      4.6\n",
      "6      5.0\n",
      "7      4.4\n",
      "8      4.9\n",
      "9      5.4\n",
      "10     4.8\n",
      "11     4.8\n",
      "12     4.3\n",
      "13     5.8\n",
      "14     5.7\n",
      "15     5.4\n",
      "16     5.1\n",
      "17     5.7\n",
      "18     5.1\n",
      "19     5.4\n",
      "20     5.1\n",
      "21     4.6\n",
      "22     5.1\n",
      "23     4.8\n",
      "24     5.0\n",
      "25     5.0\n",
      "26     5.2\n",
      "27     5.2\n",
      "28     4.7\n",
      "29     4.8\n",
      "      ... \n",
      "119    6.9\n",
      "120    5.6\n",
      "121    7.7\n",
      "122    6.3\n",
      "123    6.7\n",
      "124    7.2\n",
      "125    6.2\n",
      "126    6.1\n",
      "127    6.4\n",
      "128    7.2\n",
      "129    7.4\n",
      "130    7.9\n",
      "131    6.4\n",
      "132    6.3\n",
      "133    6.1\n",
      "134    7.7\n",
      "135    6.3\n",
      "136    6.4\n",
      "137    6.0\n",
      "138    6.9\n",
      "139    6.7\n",
      "140    6.9\n",
      "141    5.8\n",
      "142    6.8\n",
      "143    6.7\n",
      "144    6.7\n",
      "145    6.3\n",
      "146    6.5\n",
      "147    6.2\n",
      "148    5.9\n",
      "Name: sl, Length: 149, dtype: float64\n",
      "sl             0\n",
      "sw             0\n",
      "pl             0\n",
      "pw             0\n",
      "flower_type    0\n",
      "dtype: int64\n"
     ]
    }
   ],
   "source": [
    "print(df.describe())\n",
    "print(df.sl)\n",
    "print(df.isnull().sum())"
   ]
  },
  {
   "cell_type": "code",
   "execution_count": 3,
   "metadata": {},
   "outputs": [
    {
     "ename": "NameError",
     "evalue": "name 'df' is not defined",
     "output_type": "error",
     "traceback": [
      "\u001b[0;31m---------------------------------------------------------------------------\u001b[0m",
      "\u001b[0;31mNameError\u001b[0m                                 Traceback (most recent call last)",
      "\u001b[0;32m<ipython-input-3-83eb119cc966>\u001b[0m in \u001b[0;36m<module>\u001b[0;34m()\u001b[0m\n\u001b[0;32m----> 1\u001b[0;31m \u001b[0mdf\u001b[0m\u001b[0;34m.\u001b[0m\u001b[0miloc\u001b[0m\u001b[0;34m[\u001b[0m\u001b[0;36m1\u001b[0m\u001b[0;34m:\u001b[0m\u001b[0;36m4\u001b[0m\u001b[0;34m,\u001b[0m \u001b[0;36m2\u001b[0m\u001b[0;34m:\u001b[0m\u001b[0;36m4\u001b[0m\u001b[0;34m]\u001b[0m\u001b[0;34m\u001b[0m\u001b[0m\n\u001b[0m",
      "\u001b[0;31mNameError\u001b[0m: name 'df' is not defined"
     ]
    }
   ],
   "source": [
    "df.iloc[1:4, 2:4]"
   ]
  },
  {
   "cell_type": "code",
   "execution_count": null,
   "metadata": {},
   "outputs": [],
   "source": []
  }
 ],
 "metadata": {
  "kernelspec": {
   "display_name": "Python 3",
   "language": "python",
   "name": "python3"
  },
  "language_info": {
   "codemirror_mode": {
    "name": "ipython",
    "version": 3
   },
   "file_extension": ".py",
   "mimetype": "text/x-python",
   "name": "python",
   "nbconvert_exporter": "python",
   "pygments_lexer": "ipython3",
   "version": "3.6.4"
  }
 },
 "nbformat": 4,
 "nbformat_minor": 2
}
